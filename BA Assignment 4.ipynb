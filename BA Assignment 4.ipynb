{
 "cells": [
  {
   "cell_type": "markdown",
   "metadata": {},
   "source": [
    "# BA Homework 4\n",
    "## Problem 1: Bicycling World Problem"
   ]
  },
  {
   "cell_type": "code",
   "execution_count": 1,
   "metadata": {},
   "outputs": [
    {
     "data": {
      "text/html": [
       "<table>\n",
       "<thead><tr><th scope=col>Model</th><th scope=col>Weight.lbs</th><th scope=col>Price</th></tr></thead>\n",
       "<tbody>\n",
       "\t<tr><td>Fierro 7B        </td><td>17.9             </td><td>2200             </td></tr>\n",
       "\t<tr><td>HX 5000          </td><td>16.2             </td><td>6350             </td></tr>\n",
       "\t<tr><td>Durbin Ultralight</td><td>15.0             </td><td>8470             </td></tr>\n",
       "\t<tr><td>Schmidt          </td><td>16.0             </td><td>6300             </td></tr>\n",
       "\t<tr><td>WSilton Advanced </td><td>17.3             </td><td>4100             </td></tr>\n",
       "\t<tr><td>bicyclette velo  </td><td>13.2             </td><td>8700             </td></tr>\n",
       "</tbody>\n",
       "</table>\n"
      ],
      "text/latex": [
       "\\begin{tabular}{r|lll}\n",
       " Model & Weight.lbs & Price\\\\\n",
       "\\hline\n",
       "\t Fierro 7B         & 17.9              & 2200             \\\\\n",
       "\t HX 5000           & 16.2              & 6350             \\\\\n",
       "\t Durbin Ultralight & 15.0              & 8470             \\\\\n",
       "\t Schmidt           & 16.0              & 6300             \\\\\n",
       "\t WSilton Advanced  & 17.3              & 4100             \\\\\n",
       "\t bicyclette velo   & 13.2              & 8700             \\\\\n",
       "\\end{tabular}\n"
      ],
      "text/markdown": [
       "\n",
       "| Model | Weight.lbs | Price |\n",
       "|---|---|---|\n",
       "| Fierro 7B         | 17.9              | 2200              |\n",
       "| HX 5000           | 16.2              | 6350              |\n",
       "| Durbin Ultralight | 15.0              | 8470              |\n",
       "| Schmidt           | 16.0              | 6300              |\n",
       "| WSilton Advanced  | 17.3              | 4100              |\n",
       "| bicyclette velo   | 13.2              | 8700              |\n",
       "\n"
      ],
      "text/plain": [
       "  Model             Weight.lbs Price\n",
       "1 Fierro 7B         17.9       2200 \n",
       "2 HX 5000           16.2       6350 \n",
       "3 Durbin Ultralight 15.0       8470 \n",
       "4 Schmidt           16.0       6300 \n",
       "5 WSilton Advanced  17.3       4100 \n",
       "6 bicyclette velo   13.2       8700 "
      ]
     },
     "metadata": {},
     "output_type": "display_data"
    }
   ],
   "source": [
    "# Making a DataFrame \n",
    "Model <- c('Fierro 7B','HX 5000','Durbin Ultralight','Schmidt','WSilton Advanced','bicyclette velo','Supremo Team',\n",
    "           'XTC Racer',\"D'Onofrio Pro\",'Americana #6')\n",
    "Weight.lbs <- c(17.9,16.2,15.0,16.0,17.3,13.2,16.3,17.2,17.7,14.2)\n",
    "Price <- c(2200,6350,8470,6300,4100,8700,6100,2680,3500,8100)\n",
    "\n",
    "\n",
    "DF.MAIN <- data.frame(Model, Weight.lbs, Price)\n",
    "head(DF.MAIN)"
   ]
  },
  {
   "cell_type": "markdown",
   "metadata": {},
   "source": [
    "### a) Scatter chart between Weight and Price "
   ]
  },
  {
   "cell_type": "code",
   "execution_count": 2,
   "metadata": {},
   "outputs": [
    {
     "name": "stderr",
     "output_type": "stream",
     "text": [
      "Registered S3 methods overwritten by 'ggplot2':\n",
      "  method         from \n",
      "  [.quosures     rlang\n",
      "  c.quosures     rlang\n",
      "  print.quosures rlang\n",
      "`geom_smooth()` using method = 'loess' and formula 'y ~ x'\n"
     ]
    },
    {
     "data": {
      "image/png": "[encoded data removed]",
      "text/plain": [
       "plot without title"
      ]
     },
     "metadata": {},
     "output_type": "display_data"
    }
   ],
   "source": [
    "library(ggplot2)\n",
    "ggplot(data= DF.MAIN,aes(x=DF.MAIN$Weight.lbs,y=DF.MAIN$Price)) + \n",
    "    geom_point() +\n",
    "    geom_smooth(method = \"auto\",fill=NA) + \n",
    "    ggtitle(\"Scatter Plot between Price and Weight:\") +\n",
    "    xlab(\"Weights\") + ylab(\"Price\")"
   ]
  },
  {
   "cell_type": "markdown",
   "metadata": {},
   "source": [
    "### Insights:\n",
    "> - Appears like with *increase in weight of the bicycle the price of the bicycle reduces*. So we can say that there is  negative correlation between them."
   ]
  },
  {
   "cell_type": "markdown",
   "metadata": {},
   "source": [
    "### B) Estimated Regression Model"
   ]
  },
  {
   "cell_type": "code",
   "execution_count": 40,
   "metadata": {},
   "outputs": [
    {
     "data": {
      "text/plain": [
       "\n",
       "Call:\n",
       "lm(formula = Price ~ Weight.lbs, data = DF.MAIN)\n",
       "\n",
       "Residuals:\n",
       "    Min      1Q  Median      3Q     Max \n",
       "-1387.1  -715.9   164.6   679.9  1237.1 \n",
       "\n",
       "Coefficients:\n",
       "            Estimate Std. Error t value Pr(>|t|)    \n",
       "(Intercept)  28818.0     3267.3   8.820 2.15e-05 ***\n",
       "Weight.lbs   -1439.0      202.1  -7.121 9.99e-05 ***\n",
       "---\n",
       "Signif. codes:  0 '***' 0.001 '**' 0.01 '*' 0.05 '.' 0.1 ' ' 1\n",
       "\n",
       "Residual standard error: 942.3 on 8 degrees of freedom\n",
       "Multiple R-squared:  0.8637,\tAdjusted R-squared:  0.8467 \n",
       "F-statistic:  50.7 on 1 and 8 DF,  p-value: 9.994e-05\n"
      ]
     },
     "metadata": {},
     "output_type": "display_data"
    }
   ],
   "source": [
    "weight.price.lm = lm(Price~Weight.lbs,data = DF.MAIN)\n",
    "summary(weight.price.lm)"
   ]
  },
  {
   "cell_type": "code",
   "execution_count": 23,
   "metadata": {},
   "outputs": [
    {
     "data": {
      "text/html": [
       "<dl class=dl-horizontal>\n",
       "\t<dt>(Intercept)</dt>\n",
       "\t\t<dd>28818.0036798528</dd>\n",
       "\t<dt>Weight.lbs</dt>\n",
       "\t\t<dd>-1439.00643974241</dd>\n",
       "</dl>\n"
      ],
      "text/latex": [
       "\\begin{description*}\n",
       "\\item[(Intercept)] 28818.0036798528\n",
       "\\item[Weight.lbs] -1439.00643974241\n",
       "\\end{description*}\n"
      ],
      "text/markdown": [
       "(Intercept)\n",
       ":   28818.0036798528Weight.lbs\n",
       ":   -1439.00643974241\n",
       "\n"
      ],
      "text/plain": [
       "(Intercept)  Weight.lbs \n",
       "  28818.004   -1439.006 "
      ]
     },
     "metadata": {},
     "output_type": "display_data"
    }
   ],
   "source": [
    "coeffs = coefficients(weight.price.lm); coeffs "
   ]
  },
  {
   "cell_type": "markdown",
   "metadata": {},
   "source": [
    "> ###  What that simply means is that 1 increase in  weight(x) of bicycle will decrease price(y) of the bicycle by 1439.0064$\n",
    "> Equation will be: Price = (Weights.lbs * -1439.0064) + 28818.00367 which is Y = B0 + B1*X"
   ]
  },
  {
   "cell_type": "markdown",
   "metadata": {},
   "source": [
    "### C) B0 and B1 are zero with significance level being 0.05? "
   ]
  },
  {
   "cell_type": "code",
   "execution_count": 41,
   "metadata": {},
   "outputs": [
    {
     "data": {
      "text/plain": [
       "\n",
       "Call:\n",
       "lm(formula = Price ~ Weight.lbs, data = DF.MAIN)\n",
       "\n",
       "Residuals:\n",
       "    Min      1Q  Median      3Q     Max \n",
       "-1387.1  -715.9   164.6   679.9  1237.1 \n",
       "\n",
       "Coefficients:\n",
       "            Estimate Std. Error t value Pr(>|t|)    \n",
       "(Intercept)  28818.0     3267.3   8.820 2.15e-05 ***\n",
       "Weight.lbs   -1439.0      202.1  -7.121 9.99e-05 ***\n",
       "---\n",
       "Signif. codes:  0 '***' 0.001 '**' 0.01 '*' 0.05 '.' 0.1 ' ' 1\n",
       "\n",
       "Residual standard error: 942.3 on 8 degrees of freedom\n",
       "Multiple R-squared:  0.8637,\tAdjusted R-squared:  0.8467 \n",
       "F-statistic:  50.7 on 1 and 8 DF,  p-value: 9.994e-05\n"
      ]
     },
     "metadata": {},
     "output_type": "display_data"
    }
   ],
   "source": [
    "summary(weight.price.lm)"
   ]
  },
  {
   "cell_type": "markdown",
   "metadata": {},
   "source": [
    "> ### Since the p-values of both B0 and B1 is less than 0.05, we reject the null hypothesis that β1 and B2 is equal to 0. Hence there is a significant relationship between the variables in the linear regression model of the data set at 5%."
   ]
  },
  {
   "cell_type": "markdown",
   "metadata": {},
   "source": [
    "### D) How much of the variation in the prices of the bicycle in the sample does the regression model you estimated in part B explains?"
   ]
  },
  {
   "cell_type": "markdown",
   "metadata": {},
   "source": [
    "> ### The R-squared explains the variation between X and Y. From model summary output we find the R-squared = 0.8637. This means that model is accounts for or explains 86% of variance in the observations."
   ]
  },
  {
   "cell_type": "code",
   "execution_count": 38,
   "metadata": {},
   "outputs": [
    {
     "data": {
      "text/html": [
       "<table>\n",
       "<thead><tr><th scope=col>Model</th><th scope=col>Weight.lbs</th><th scope=col>Price</th><th scope=col>Predicted.Price</th></tr></thead>\n",
       "<tbody>\n",
       "\t<tr><td>Fierro 7B        </td><td>17.9             </td><td>2200             </td><td>3059.788         </td></tr>\n",
       "\t<tr><td>HX 5000          </td><td>16.2             </td><td>6350             </td><td>5506.099         </td></tr>\n",
       "\t<tr><td>Durbin Ultralight</td><td>15.0             </td><td>8470             </td><td>7232.907         </td></tr>\n",
       "\t<tr><td>Schmidt          </td><td>16.0             </td><td>6300             </td><td>5793.901         </td></tr>\n",
       "\t<tr><td>WSilton Advanced </td><td>17.3             </td><td>4100             </td><td>3923.192         </td></tr>\n",
       "\t<tr><td>bicyclette velo  </td><td>13.2             </td><td>8700             </td><td>9823.119         </td></tr>\n",
       "\t<tr><td>Supremo Team     </td><td>16.3             </td><td>6100             </td><td>5362.199         </td></tr>\n",
       "\t<tr><td>XTC Racer        </td><td>17.2             </td><td>2680             </td><td>4067.093         </td></tr>\n",
       "\t<tr><td>D'Onofrio Pro    </td><td>17.7             </td><td>3500             </td><td>3347.590         </td></tr>\n",
       "\t<tr><td>Americana #6     </td><td>14.2             </td><td>8100             </td><td>8384.112         </td></tr>\n",
       "</tbody>\n",
       "</table>\n"
      ],
      "text/latex": [
       "\\begin{tabular}{r|llll}\n",
       " Model & Weight.lbs & Price & Predicted.Price\\\\\n",
       "\\hline\n",
       "\t Fierro 7B         & 17.9              & 2200              & 3059.788         \\\\\n",
       "\t HX 5000           & 16.2              & 6350              & 5506.099         \\\\\n",
       "\t Durbin Ultralight & 15.0              & 8470              & 7232.907         \\\\\n",
       "\t Schmidt           & 16.0              & 6300              & 5793.901         \\\\\n",
       "\t WSilton Advanced  & 17.3              & 4100              & 3923.192         \\\\\n",
       "\t bicyclette velo   & 13.2              & 8700              & 9823.119         \\\\\n",
       "\t Supremo Team      & 16.3              & 6100              & 5362.199         \\\\\n",
       "\t XTC Racer         & 17.2              & 2680              & 4067.093         \\\\\n",
       "\t D'Onofrio Pro     & 17.7              & 3500              & 3347.590         \\\\\n",
       "\t Americana \\#6      & 14.2                & 8100                & 8384.112           \\\\\n",
       "\\end{tabular}\n"
      ],
      "text/markdown": [
       "\n",
       "| Model | Weight.lbs | Price | Predicted.Price |\n",
       "|---|---|---|---|\n",
       "| Fierro 7B         | 17.9              | 2200              | 3059.788          |\n",
       "| HX 5000           | 16.2              | 6350              | 5506.099          |\n",
       "| Durbin Ultralight | 15.0              | 8470              | 7232.907          |\n",
       "| Schmidt           | 16.0              | 6300              | 5793.901          |\n",
       "| WSilton Advanced  | 17.3              | 4100              | 3923.192          |\n",
       "| bicyclette velo   | 13.2              | 8700              | 9823.119          |\n",
       "| Supremo Team      | 16.3              | 6100              | 5362.199          |\n",
       "| XTC Racer         | 17.2              | 2680              | 4067.093          |\n",
       "| D'Onofrio Pro     | 17.7              | 3500              | 3347.590          |\n",
       "| Americana #6      | 14.2              | 8100              | 8384.112          |\n",
       "\n"
      ],
      "text/plain": [
       "   Model             Weight.lbs Price Predicted.Price\n",
       "1  Fierro 7B         17.9       2200  3059.788       \n",
       "2  HX 5000           16.2       6350  5506.099       \n",
       "3  Durbin Ultralight 15.0       8470  7232.907       \n",
       "4  Schmidt           16.0       6300  5793.901       \n",
       "5  WSilton Advanced  17.3       4100  3923.192       \n",
       "6  bicyclette velo   13.2       8700  9823.119       \n",
       "7  Supremo Team      16.3       6100  5362.199       \n",
       "8  XTC Racer         17.2       2680  4067.093       \n",
       "9  D'Onofrio Pro     17.7       3500  3347.590       \n",
       "10 Americana #6      14.2       8100  8384.112       "
      ]
     },
     "metadata": {},
     "output_type": "display_data"
    }
   ],
   "source": [
    "newdata = data.frame(weight=DF.MAIN$Weight.lbs)\n",
    "DF.MAIN$Predicted.Price= predict(weight.price.lm, newdata)\n",
    "DF.MAIN"
   ]
  },
  {
   "cell_type": "markdown",
   "metadata": {},
   "source": [
    "## Problem 2: Assembly Line Problem:"
   ]
  },
  {
   "cell_type": "code",
   "execution_count": 4,
   "metadata": {},
   "outputs": [
    {
     "data": {
      "text/html": [
       "<table>\n",
       "<thead><tr><th scope=col>Line.Speed</th><th scope=col>Number.Defective.Parts</th></tr></thead>\n",
       "<tbody>\n",
       "\t<tr><td>20</td><td>21</td></tr>\n",
       "\t<tr><td>20</td><td>19</td></tr>\n",
       "\t<tr><td>40</td><td>15</td></tr>\n",
       "\t<tr><td>30</td><td>16</td></tr>\n",
       "\t<tr><td>60</td><td>14</td></tr>\n",
       "\t<tr><td>40</td><td>17</td></tr>\n",
       "</tbody>\n",
       "</table>\n"
      ],
      "text/latex": [
       "\\begin{tabular}{r|ll}\n",
       " Line.Speed & Number.Defective.Parts\\\\\n",
       "\\hline\n",
       "\t 20 & 21\\\\\n",
       "\t 20 & 19\\\\\n",
       "\t 40 & 15\\\\\n",
       "\t 30 & 16\\\\\n",
       "\t 60 & 14\\\\\n",
       "\t 40 & 17\\\\\n",
       "\\end{tabular}\n"
      ],
      "text/markdown": [
       "\n",
       "| Line.Speed | Number.Defective.Parts |\n",
       "|---|---|\n",
       "| 20 | 21 |\n",
       "| 20 | 19 |\n",
       "| 40 | 15 |\n",
       "| 30 | 16 |\n",
       "| 60 | 14 |\n",
       "| 40 | 17 |\n",
       "\n"
      ],
      "text/plain": [
       "  Line.Speed Number.Defective.Parts\n",
       "1 20         21                    \n",
       "2 20         19                    \n",
       "3 40         15                    \n",
       "4 30         16                    \n",
       "5 60         14                    \n",
       "6 40         17                    "
      ]
     },
     "metadata": {},
     "output_type": "display_data"
    }
   ],
   "source": [
    "#creating the x-y vectors\n",
    "Line.Speed<-c(20,20,40,30,60,40) \n",
    "Number.Defective.Parts <-c(21,19,15,16,14,17) \n",
    "\n",
    "DF.MAIN <- data.frame(Line.Speed, Number.Defective.Parts)\n",
    "DF.MAIN"
   ]
  },
  {
   "cell_type": "markdown",
   "metadata": {},
   "source": [
    "### A) Scatter plot and Correlation between the Line speed and Number of Defective parts?"
   ]
  },
  {
   "cell_type": "code",
   "execution_count": 7,
   "metadata": {},
   "outputs": [
    {
     "name": "stderr",
     "output_type": "stream",
     "text": [
      "`geom_smooth()` using method = 'loess' and formula 'y ~ x'\n",
      "Warning message in simpleLoess(y, x, w, span, degree = degree, parametric = parametric, :\n",
      "\"pseudoinverse used at 17\"Warning message in simpleLoess(y, x, w, span, degree = degree, parametric = parametric, :\n",
      "\"neighborhood radius 2\"Warning message in simpleLoess(y, x, w, span, degree = degree, parametric = parametric, :\n",
      "\"reciprocal condition number  0\"Warning message in predLoess(object$y, object$x, newx = if (is.null(newdata)) object$x else if (is.data.frame(newdata)) as.matrix(model.frame(delete.response(terms(object)), :\n",
      "\"pseudoinverse used at 17\"Warning message in predLoess(object$y, object$x, newx = if (is.null(newdata)) object$x else if (is.data.frame(newdata)) as.matrix(model.frame(delete.response(terms(object)), :\n",
      "\"neighborhood radius 2\"Warning message in predLoess(object$y, object$x, newx = if (is.null(newdata)) object$x else if (is.data.frame(newdata)) as.matrix(model.frame(delete.response(terms(object)), :\n",
      "\"reciprocal condition number  0\""
     ]
    },
    {
     "data": {
      "image/png": "[encoded data removed]",
      "text/plain": [
       "plot without title"
      ]
     },
     "metadata": {},
     "output_type": "display_data"
    }
   ],
   "source": [
    "ggplot(data= DF.MAIN,aes(y=DF.MAIN$Line.Speed,x=DF.MAIN$Number.Defective.Parts)) + \n",
    "    geom_point() +\n",
    "    geom_smooth(method = \"auto\",fill=NA) + \n",
    "    ggtitle(\"Scatter Plot between Line speed and Defective parts count:\") +\n",
    "    xlab(\"Number of defective parts\") + ylab(\"Line Speed\")"
   ]
  },
  {
   "cell_type": "markdown",
   "metadata": {},
   "source": [
    "> ### This graph shows negative correlation between Line Speed and Number of defective parts i.e Increase in Number of defective parts means there will be decrease in Line Speed viceversa"
   ]
  },
  {
   "cell_type": "markdown",
   "metadata": {},
   "source": [
    "### B) Estimeted regression equation?"
   ]
  },
  {
   "cell_type": "code",
   "execution_count": 12,
   "metadata": {},
   "outputs": [
    {
     "data": {
      "text/plain": [
       "\n",
       "Call:\n",
       "lm(formula = Number.Defective.Parts ~ Line.Speed, data = DF.MAIN)\n",
       "\n",
       "Residuals:\n",
       "      1       2       3       4       5       6 \n",
       " 1.7826 -0.2174 -1.2609 -1.7391  0.6957  0.7391 \n",
       "\n",
       "Coefficients:\n",
       "            Estimate Std. Error t value Pr(>|t|)    \n",
       "(Intercept) 22.17391    1.65275  13.416 0.000179 ***\n",
       "Line.Speed  -0.14783    0.04391  -3.367 0.028135 *  \n",
       "---\n",
       "Signif. codes:  0 '***' 0.001 '**' 0.01 '*' 0.05 '.' 0.1 ' ' 1\n",
       "\n",
       "Residual standard error: 1.489 on 4 degrees of freedom\n",
       "Multiple R-squared:  0.7391,\tAdjusted R-squared:  0.6739 \n",
       "F-statistic: 11.33 on 1 and 4 DF,  p-value: 0.02813\n"
      ]
     },
     "metadata": {},
     "output_type": "display_data"
    }
   ],
   "source": [
    "model = lm(Number.Defective.Parts~Line.Speed,DF.MAIN)\n",
    "summary(model)"
   ]
  },
  {
   "cell_type": "code",
   "execution_count": 10,
   "metadata": {},
   "outputs": [
    {
     "data": {
      "text/html": [
       "<dl class=dl-horizontal>\n",
       "\t<dt>(Intercept)</dt>\n",
       "\t\t<dd>22.1739130434783</dd>\n",
       "\t<dt>Line.Speed</dt>\n",
       "\t\t<dd>-0.147826086956522</dd>\n",
       "</dl>\n"
      ],
      "text/latex": [
       "\\begin{description*}\n",
       "\\item[(Intercept)] 22.1739130434783\n",
       "\\item[Line.Speed] -0.147826086956522\n",
       "\\end{description*}\n"
      ],
      "text/markdown": [
       "(Intercept)\n",
       ":   22.1739130434783Line.Speed\n",
       ":   -0.147826086956522\n",
       "\n"
      ],
      "text/plain": [
       "(Intercept)  Line.Speed \n",
       " 22.1739130  -0.1478261 "
      ]
     },
     "metadata": {},
     "output_type": "display_data"
    }
   ],
   "source": [
    "coeffs = coefficients(model); coeffs "
   ]
  },
  {
   "cell_type": "markdown",
   "metadata": {},
   "source": [
    "> ###  What that simply means is that 1 increase in Line Speed will decrease Defective parts count by 0.14783\n",
    "> Equation will be: Defective parts = (Line Speed * -0.14783) + 22.17391 which is Y = B0 + B1*X"
   ]
  },
  {
   "cell_type": "markdown",
   "metadata": {},
   "source": [
    "### C) B0 and B1 are zero with significance level being 0.01? "
   ]
  },
  {
   "cell_type": "markdown",
   "metadata": {},
   "source": [
    "> #### Comparing The p-values of B0 and B1 to chack if they are more than 0.01, after comparision we reject the null hypothesis that β0 = 0 but not the B1 = 0, Hence there is not significant relationship with Line.speed in the linear regression model of the data set but there is with the intercept."
   ]
  },
  {
   "cell_type": "markdown",
   "metadata": {},
   "source": [
    "### D) How much of the variation in the Number of Defective parts in the sample does the regression model you estimated in part B explains?"
   ]
  },
  {
   "cell_type": "markdown",
   "metadata": {},
   "source": [
    "> #### The R-squared explains the variation between X and Y. From model summary output we find the R-squared = 0.7391. This means that model accounts for or explains 73.91% of variance in the observations."
   ]
  },
  {
   "cell_type": "markdown",
   "metadata": {},
   "source": [
    "## Problem 3: Jensen Tire & Auto Problem"
   ]
  },
  {
   "cell_type": "code",
   "execution_count": 16,
   "metadata": {},
   "outputs": [
    {
     "data": {
      "text/html": [
       "<table>\n",
       "<thead><tr><th scope=col>Weekly.Usage</th><th scope=col>Annual.Maintenance.Expence</th></tr></thead>\n",
       "<tbody>\n",
       "\t<tr><td>13  </td><td>1700</td></tr>\n",
       "\t<tr><td>10  </td><td>2200</td></tr>\n",
       "\t<tr><td>20  </td><td>3000</td></tr>\n",
       "\t<tr><td>28  </td><td>3700</td></tr>\n",
       "\t<tr><td>32  </td><td>4700</td></tr>\n",
       "\t<tr><td>17  </td><td>3050</td></tr>\n",
       "\t<tr><td>24  </td><td>3240</td></tr>\n",
       "\t<tr><td>31  </td><td>3900</td></tr>\n",
       "\t<tr><td>40  </td><td>5150</td></tr>\n",
       "\t<tr><td>38  </td><td>4000</td></tr>\n",
       "</tbody>\n",
       "</table>\n"
      ],
      "text/latex": [
       "\\begin{tabular}{r|ll}\n",
       " Weekly.Usage & Annual.Maintenance.Expence\\\\\n",
       "\\hline\n",
       "\t 13   & 1700\\\\\n",
       "\t 10   & 2200\\\\\n",
       "\t 20   & 3000\\\\\n",
       "\t 28   & 3700\\\\\n",
       "\t 32   & 4700\\\\\n",
       "\t 17   & 3050\\\\\n",
       "\t 24   & 3240\\\\\n",
       "\t 31   & 3900\\\\\n",
       "\t 40   & 5150\\\\\n",
       "\t 38   & 4000\\\\\n",
       "\\end{tabular}\n"
      ],
      "text/markdown": [
       "\n",
       "| Weekly.Usage | Annual.Maintenance.Expence |\n",
       "|---|---|\n",
       "| 13   | 1700 |\n",
       "| 10   | 2200 |\n",
       "| 20   | 3000 |\n",
       "| 28   | 3700 |\n",
       "| 32   | 4700 |\n",
       "| 17   | 3050 |\n",
       "| 24   | 3240 |\n",
       "| 31   | 3900 |\n",
       "| 40   | 5150 |\n",
       "| 38   | 4000 |\n",
       "\n"
      ],
      "text/plain": [
       "   Weekly.Usage Annual.Maintenance.Expence\n",
       "1  13           1700                      \n",
       "2  10           2200                      \n",
       "3  20           3000                      \n",
       "4  28           3700                      \n",
       "5  32           4700                      \n",
       "6  17           3050                      \n",
       "7  24           3240                      \n",
       "8  31           3900                      \n",
       "9  40           5150                      \n",
       "10 38           4000                      "
      ]
     },
     "metadata": {},
     "output_type": "display_data"
    }
   ],
   "source": [
    "#creating the x-y vectors\n",
    "Weekly.Usage<-c(13,10,20,28,32,17,24,31,40,38)\n",
    "Annual.Maintenance.Expence<-c(1700,2200,3000,3700,4700,3050,3240,3900,5150,4000) \n",
    "\n",
    "DF.MAIN <- data.frame(Weekly.Usage, Annual.Maintenance.Expence)\n",
    "DF.MAIN"
   ]
  },
  {
   "cell_type": "markdown",
   "metadata": {},
   "source": [
    "### A) Scatter plot and Correlation between the Annual Maintenance Expense and Weekly Usage?"
   ]
  },
  {
   "cell_type": "code",
   "execution_count": 18,
   "metadata": {},
   "outputs": [
    {
     "name": "stderr",
     "output_type": "stream",
     "text": [
      "`geom_smooth()` using method = 'loess' and formula 'y ~ x'\n"
     ]
    },
    {
     "data": {
      "image/png": "[encoded data removed]",
      "text/plain": [
       "plot without title"
      ]
     },
     "metadata": {},
     "output_type": "display_data"
    }
   ],
   "source": [
    "ggplot(data= DF.MAIN,aes(y=DF.MAIN$Annual.Maintenance.Expence,x=DF.MAIN$Weekly.Usage)) + \n",
    "    geom_point() +\n",
    "    geom_smooth(method = \"auto\",fill=NA) + \n",
    "    ggtitle(\"Scatter Plot between Annual Maintenance Expence and Weekly Usage:\") +\n",
    "    xlab(\"Weekly Usage\") + ylab(\"Annual Maintenance Expence\")"
   ]
  },
  {
   "cell_type": "markdown",
   "metadata": {},
   "source": [
    "> ### This graph shows Linear and Positive correlation between Annual Maintenance Expenses and Weekly Usage i.e Increase in Annual Maintenance Expence means there will be Increase in Weekly Usage or vice versa."
   ]
  },
  {
   "cell_type": "markdown",
   "metadata": {},
   "source": [
    "### B) Estimeted regression equation?"
   ]
  },
  {
   "cell_type": "code",
   "execution_count": 20,
   "metadata": {},
   "outputs": [
    {
     "data": {
      "text/plain": [
       "\n",
       "Call:\n",
       "lm(formula = Annual.Maintenance.Expence ~ Weekly.Usage)\n",
       "\n",
       "Residuals:\n",
       "    Min      1Q  Median      3Q     Max \n",
       "-675.04 -105.66    9.97  261.92  597.10 \n",
       "\n",
       "Coefficients:\n",
       "             Estimate Std. Error t value Pr(>|t|)    \n",
       "(Intercept)   1051.45     374.73   2.806 0.022990 *  \n",
       "Weekly.Usage    95.36      13.83   6.897 0.000125 ***\n",
       "---\n",
       "Signif. codes:  0 '***' 0.001 '**' 0.01 '*' 0.05 '.' 0.1 ' ' 1\n",
       "\n",
       "Residual standard error: 425.2 on 8 degrees of freedom\n",
       "Multiple R-squared:  0.856,\tAdjusted R-squared:  0.8381 \n",
       "F-statistic: 47.57 on 1 and 8 DF,  p-value: 0.0001249\n"
      ]
     },
     "metadata": {},
     "output_type": "display_data"
    },
    {
     "data": {
      "text/html": [
       "<dl class=dl-horizontal>\n",
       "\t<dt>(Intercept)</dt>\n",
       "\t\t<dd>1051.44804988902</dd>\n",
       "\t<dt>Weekly.Usage</dt>\n",
       "\t\t<dd>95.3577845893669</dd>\n",
       "</dl>\n"
      ],
      "text/latex": [
       "\\begin{description*}\n",
       "\\item[(Intercept)] 1051.44804988902\n",
       "\\item[Weekly.Usage] 95.3577845893669\n",
       "\\end{description*}\n"
      ],
      "text/markdown": [
       "(Intercept)\n",
       ":   1051.44804988902Weekly.Usage\n",
       ":   95.3577845893669\n",
       "\n"
      ],
      "text/plain": [
       " (Intercept) Weekly.Usage \n",
       "  1051.44805     95.35778 "
      ]
     },
     "metadata": {},
     "output_type": "display_data"
    }
   ],
   "source": [
    "#linear model\n",
    "model<-lm(Annual.Maintenance.Expence~Weekly.Usage)\n",
    "summary(model)\n",
    "coeffs = coefficients(model); coeffs "
   ]
  },
  {
   "cell_type": "markdown",
   "metadata": {},
   "source": [
    "> ###  What that simply means is that 1 increase in Annual maintenance expense will increase Weekly Usage by 95.36\n",
    "> Equation will be: Annual Expense = (Weekly Usage * 95.36) + 1051.45 which is Y = B0 + B1*X"
   ]
  },
  {
   "cell_type": "markdown",
   "metadata": {},
   "source": [
    "##  Problem 4: Toyota Problem\n"
   ]
  },
  {
   "cell_type": "code",
   "execution_count": 22,
   "metadata": {},
   "outputs": [
    {
     "data": {
      "text/html": [
       "<table>\n",
       "<thead><tr><th scope=col>Miles.X</th><th scope=col>Price.Y</th></tr></thead>\n",
       "<tbody>\n",
       "\t<tr><td> 22 </td><td>16.2</td></tr>\n",
       "\t<tr><td> 29 </td><td>16.0</td></tr>\n",
       "\t<tr><td> 36 </td><td>13.8</td></tr>\n",
       "\t<tr><td> 47 </td><td>11.5</td></tr>\n",
       "\t<tr><td> 63 </td><td>12.5</td></tr>\n",
       "\t<tr><td> 77 </td><td>12.9</td></tr>\n",
       "\t<tr><td> 73 </td><td>11.2</td></tr>\n",
       "\t<tr><td> 87 </td><td>13.0</td></tr>\n",
       "\t<tr><td> 92 </td><td>11.8</td></tr>\n",
       "\t<tr><td>101 </td><td>10.8</td></tr>\n",
       "\t<tr><td>110 </td><td> 8.3</td></tr>\n",
       "\t<tr><td> 28 </td><td>12.5</td></tr>\n",
       "\t<tr><td> 59 </td><td>11.1</td></tr>\n",
       "\t<tr><td> 68 </td><td>15.0</td></tr>\n",
       "\t<tr><td> 68 </td><td>12.2</td></tr>\n",
       "\t<tr><td> 91 </td><td>13.0</td></tr>\n",
       "\t<tr><td> 42 </td><td>15.6</td></tr>\n",
       "\t<tr><td> 65 </td><td>12.7</td></tr>\n",
       "\t<tr><td>110 </td><td> 8.3</td></tr>\n",
       "</tbody>\n",
       "</table>\n"
      ],
      "text/latex": [
       "\\begin{tabular}{r|ll}\n",
       " Miles.X & Price.Y\\\\\n",
       "\\hline\n",
       "\t  22  & 16.2\\\\\n",
       "\t  29  & 16.0\\\\\n",
       "\t  36  & 13.8\\\\\n",
       "\t  47  & 11.5\\\\\n",
       "\t  63  & 12.5\\\\\n",
       "\t  77  & 12.9\\\\\n",
       "\t  73  & 11.2\\\\\n",
       "\t  87  & 13.0\\\\\n",
       "\t  92  & 11.8\\\\\n",
       "\t 101  & 10.8\\\\\n",
       "\t 110  &  8.3\\\\\n",
       "\t  28  & 12.5\\\\\n",
       "\t  59  & 11.1\\\\\n",
       "\t  68  & 15.0\\\\\n",
       "\t  68  & 12.2\\\\\n",
       "\t  91  & 13.0\\\\\n",
       "\t  42  & 15.6\\\\\n",
       "\t  65  & 12.7\\\\\n",
       "\t 110  &  8.3\\\\\n",
       "\\end{tabular}\n"
      ],
      "text/markdown": [
       "\n",
       "| Miles.X | Price.Y |\n",
       "|---|---|\n",
       "|  22  | 16.2 |\n",
       "|  29  | 16.0 |\n",
       "|  36  | 13.8 |\n",
       "|  47  | 11.5 |\n",
       "|  63  | 12.5 |\n",
       "|  77  | 12.9 |\n",
       "|  73  | 11.2 |\n",
       "|  87  | 13.0 |\n",
       "|  92  | 11.8 |\n",
       "| 101  | 10.8 |\n",
       "| 110  |  8.3 |\n",
       "|  28  | 12.5 |\n",
       "|  59  | 11.1 |\n",
       "|  68  | 15.0 |\n",
       "|  68  | 12.2 |\n",
       "|  91  | 13.0 |\n",
       "|  42  | 15.6 |\n",
       "|  65  | 12.7 |\n",
       "| 110  |  8.3 |\n",
       "\n"
      ],
      "text/plain": [
       "   Miles.X Price.Y\n",
       "1   22     16.2   \n",
       "2   29     16.0   \n",
       "3   36     13.8   \n",
       "4   47     11.5   \n",
       "5   63     12.5   \n",
       "6   77     12.9   \n",
       "7   73     11.2   \n",
       "8   87     13.0   \n",
       "9   92     11.8   \n",
       "10 101     10.8   \n",
       "11 110      8.3   \n",
       "12  28     12.5   \n",
       "13  59     11.1   \n",
       "14  68     15.0   \n",
       "15  68     12.2   \n",
       "16  91     13.0   \n",
       "17  42     15.6   \n",
       "18  65     12.7   \n",
       "19 110      8.3   "
      ]
     },
     "metadata": {},
     "output_type": "display_data"
    }
   ],
   "source": [
    "#creating the x-y vectors and Dataframe from that\n",
    "Miles.X<-c(22,29,36,47,63,77,73,87,92,101,110,28,59,68,68,91,42,65,110) \n",
    "Price.Y<-c(16.2,16,13.8,11.5,12.5,12.9,11.2,13,11.8,10.8,8.3,12.5,11.1,\n",
    "     15,12.2,13,15.6,12.7,8.3)\n",
    "DF.MAIN <- data.frame(Miles.X, Price.Y)\n",
    "DF.MAIN"
   ]
  },
  {
   "cell_type": "markdown",
   "metadata": {},
   "source": [
    "### A) Develope a scatter chart and observe the relation."
   ]
  },
  {
   "cell_type": "code",
   "execution_count": 29,
   "metadata": {},
   "outputs": [
    {
     "name": "stderr",
     "output_type": "stream",
     "text": [
      "`geom_smooth()` using method = 'loess' and formula 'y ~ x'\n"
     ]
    },
    {
     "data": {
      "image/png": "[encoded data removed]",
      "text/plain": [
       "plot without title"
      ]
     },
     "metadata": {},
     "output_type": "display_data"
    }
   ],
   "source": [
    "ggplot(data= DF.MAIN,aes(y=DF.MAIN$Price.Y,x=DF.MAIN$Miles.X)) + \n",
    "    geom_point() +\n",
    "    geom_smooth(method = \"auto\",fill=NA) + \n",
    "    ggtitle(\"Scatter Plot between Miles the camry ran and Price:\") +\n",
    "    xlab(\"Miles\") + ylab(\"Price\")"
   ]
  },
  {
   "cell_type": "markdown",
   "metadata": {},
   "source": [
    "> ### The above scatter plot shows negative correlation between Price and miles."
   ]
  },
  {
   "cell_type": "markdown",
   "metadata": {},
   "source": [
    "### B) Estimeted regression equation?"
   ]
  },
  {
   "cell_type": "code",
   "execution_count": 26,
   "metadata": {},
   "outputs": [
    {
     "data": {
      "text/plain": [
       "\n",
       "Call:\n",
       "lm(formula = Price.Y ~ Miles.X, data = DF.MAIN)\n",
       "\n",
       "Residuals:\n",
       "     Min       1Q   Median       3Q      Max \n",
       "-2.32408 -1.34194  0.05055  1.12898  2.52687 \n",
       "\n",
       "Coefficients:\n",
       "            Estimate Std. Error t value Pr(>|t|)    \n",
       "(Intercept) 16.46976    0.94876  17.359 2.99e-12 ***\n",
       "Miles.X     -0.05877    0.01319  -4.455 0.000348 ***\n",
       "---\n",
       "Signif. codes:  0 '***' 0.001 '**' 0.01 '*' 0.05 '.' 0.1 ' ' 1\n",
       "\n",
       "Residual standard error: 1.541 on 17 degrees of freedom\n",
       "Multiple R-squared:  0.5387,\tAdjusted R-squared:  0.5115 \n",
       "F-statistic: 19.85 on 1 and 17 DF,  p-value: 0.0003475\n"
      ]
     },
     "metadata": {},
     "output_type": "display_data"
    },
    {
     "data": {
      "text/html": [
       "<dl class=dl-horizontal>\n",
       "\t<dt>(Intercept)</dt>\n",
       "\t\t<dd>16.4697550331172</dd>\n",
       "\t<dt>Miles.X</dt>\n",
       "\t\t<dd>-0.0587739318842479</dd>\n",
       "</dl>\n"
      ],
      "text/latex": [
       "\\begin{description*}\n",
       "\\item[(Intercept)] 16.4697550331172\n",
       "\\item[Miles.X] -0.0587739318842479\n",
       "\\end{description*}\n"
      ],
      "text/markdown": [
       "(Intercept)\n",
       ":   16.4697550331172Miles.X\n",
       ":   -0.0587739318842479\n",
       "\n"
      ],
      "text/plain": [
       "(Intercept)     Miles.X \n",
       "16.46975503 -0.05877393 "
      ]
     },
     "metadata": {},
     "output_type": "display_data"
    }
   ],
   "source": [
    "model = lm(Price.Y~Miles.X,DF.MAIN)\n",
    "summary(model)\n",
    "coefficients(model)"
   ]
  },
  {
   "cell_type": "markdown",
   "metadata": {},
   "source": [
    "> ### The estimeted regression equation for the linear model is y=16.46976-0.05877x, Where y is Price and x is Miles."
   ]
  },
  {
   "cell_type": "markdown",
   "metadata": {},
   "source": [
    "### C) B0 and B1 are zero with significance level being 0.01?  Interpretention of estimated regression?"
   ]
  },
  {
   "cell_type": "markdown",
   "metadata": {},
   "source": [
    "> ###  Because the p-values are less than 0.01, we reject the null hypothesis that B0 and B1 is equal to 0 , Hence there is a significant relationship between the variables in the linear regression model at 1%."
   ]
  },
  {
   "cell_type": "markdown",
   "metadata": {},
   "source": [
    "### D) How much of the variation in the sample values of price does the regression model you estimated in part B explains?"
   ]
  },
  {
   "cell_type": "markdown",
   "metadata": {},
   "source": [
    "> ### This model is explaining 53.87% of the variance in the sample data"
   ]
  },
  {
   "cell_type": "markdown",
   "metadata": {},
   "source": [
    "### E) For the model estimated in part b, calculate the predicted price and residual for each automobile in the data. Identify the two with largest residual."
   ]
  },
  {
   "cell_type": "markdown",
   "metadata": {},
   "source": [
    "#### Residual is defined a (observed - expected). To do that, we compute residuals as such:"
   ]
  },
  {
   "cell_type": "code",
   "execution_count": 31,
   "metadata": {},
   "outputs": [
    {
     "data": {
      "text/html": [
       "<table>\n",
       "<thead><tr><th scope=col>Miles.X</th><th scope=col>Price.Y</th><th scope=col>Predicted.Price</th><th scope=col>Residual</th></tr></thead>\n",
       "<tbody>\n",
       "\t<tr><td> 22        </td><td>16.2       </td><td>15.17673   </td><td> 1.02327147</td></tr>\n",
       "\t<tr><td> 29        </td><td>16.0       </td><td>14.76531   </td><td> 1.23468899</td></tr>\n",
       "\t<tr><td> 36        </td><td>13.8       </td><td>14.35389   </td><td>-0.55389349</td></tr>\n",
       "\t<tr><td> 47        </td><td>11.5       </td><td>13.70738   </td><td>-2.20738023</td></tr>\n",
       "\t<tr><td> 63        </td><td>12.5       </td><td>12.76700   </td><td>-0.26699732</td></tr>\n",
       "\t<tr><td> 77        </td><td>12.9       </td><td>11.94416   </td><td> 0.95583772</td></tr>\n",
       "\t<tr><td> 73        </td><td>11.2       </td><td>12.17926   </td><td>-0.97925801</td></tr>\n",
       "\t<tr><td> 87        </td><td>13.0       </td><td>11.35642   </td><td> 1.64357704</td></tr>\n",
       "\t<tr><td> 92        </td><td>11.8       </td><td>11.06255   </td><td> 0.73744670</td></tr>\n",
       "\t<tr><td>101        </td><td>10.8       </td><td>10.53359   </td><td> 0.26641209</td></tr>\n",
       "\t<tr><td>110        </td><td> 8.3       </td><td>10.00462   </td><td>-1.70462253</td></tr>\n",
       "\t<tr><td> 28        </td><td>12.5       </td><td>14.82408   </td><td>-2.32408494</td></tr>\n",
       "\t<tr><td> 59        </td><td>11.1       </td><td>13.00209   </td><td>-1.90209305</td></tr>\n",
       "\t<tr><td> 68        </td><td>15.0       </td><td>12.47313   </td><td> 2.52687234</td></tr>\n",
       "\t<tr><td> 68        </td><td>12.2       </td><td>12.47313   </td><td>-0.27312766</td></tr>\n",
       "\t<tr><td> 91        </td><td>13.0       </td><td>11.12133   </td><td> 1.87867277</td></tr>\n",
       "\t<tr><td> 42        </td><td>15.6       </td><td>14.00125   </td><td> 1.59875011</td></tr>\n",
       "\t<tr><td> 65        </td><td>12.7       </td><td>12.64945   </td><td> 0.05055054</td></tr>\n",
       "\t<tr><td>110        </td><td> 8.3       </td><td>10.00462   </td><td>-1.70462253</td></tr>\n",
       "</tbody>\n",
       "</table>\n"
      ],
      "text/latex": [
       "\\begin{tabular}{r|llll}\n",
       " Miles.X & Price.Y & Predicted.Price & Residual\\\\\n",
       "\\hline\n",
       "\t  22         & 16.2        & 15.17673    &  1.02327147\\\\\n",
       "\t  29         & 16.0        & 14.76531    &  1.23468899\\\\\n",
       "\t  36         & 13.8        & 14.35389    & -0.55389349\\\\\n",
       "\t  47         & 11.5        & 13.70738    & -2.20738023\\\\\n",
       "\t  63         & 12.5        & 12.76700    & -0.26699732\\\\\n",
       "\t  77         & 12.9        & 11.94416    &  0.95583772\\\\\n",
       "\t  73         & 11.2        & 12.17926    & -0.97925801\\\\\n",
       "\t  87         & 13.0        & 11.35642    &  1.64357704\\\\\n",
       "\t  92         & 11.8        & 11.06255    &  0.73744670\\\\\n",
       "\t 101         & 10.8        & 10.53359    &  0.26641209\\\\\n",
       "\t 110         &  8.3        & 10.00462    & -1.70462253\\\\\n",
       "\t  28         & 12.5        & 14.82408    & -2.32408494\\\\\n",
       "\t  59         & 11.1        & 13.00209    & -1.90209305\\\\\n",
       "\t  68         & 15.0        & 12.47313    &  2.52687234\\\\\n",
       "\t  68         & 12.2        & 12.47313    & -0.27312766\\\\\n",
       "\t  91         & 13.0        & 11.12133    &  1.87867277\\\\\n",
       "\t  42         & 15.6        & 14.00125    &  1.59875011\\\\\n",
       "\t  65         & 12.7        & 12.64945    &  0.05055054\\\\\n",
       "\t 110         &  8.3        & 10.00462    & -1.70462253\\\\\n",
       "\\end{tabular}\n"
      ],
      "text/markdown": [
       "\n",
       "| Miles.X | Price.Y | Predicted.Price | Residual |\n",
       "|---|---|---|---|\n",
       "|  22         | 16.2        | 15.17673    |  1.02327147 |\n",
       "|  29         | 16.0        | 14.76531    |  1.23468899 |\n",
       "|  36         | 13.8        | 14.35389    | -0.55389349 |\n",
       "|  47         | 11.5        | 13.70738    | -2.20738023 |\n",
       "|  63         | 12.5        | 12.76700    | -0.26699732 |\n",
       "|  77         | 12.9        | 11.94416    |  0.95583772 |\n",
       "|  73         | 11.2        | 12.17926    | -0.97925801 |\n",
       "|  87         | 13.0        | 11.35642    |  1.64357704 |\n",
       "|  92         | 11.8        | 11.06255    |  0.73744670 |\n",
       "| 101         | 10.8        | 10.53359    |  0.26641209 |\n",
       "| 110         |  8.3        | 10.00462    | -1.70462253 |\n",
       "|  28         | 12.5        | 14.82408    | -2.32408494 |\n",
       "|  59         | 11.1        | 13.00209    | -1.90209305 |\n",
       "|  68         | 15.0        | 12.47313    |  2.52687234 |\n",
       "|  68         | 12.2        | 12.47313    | -0.27312766 |\n",
       "|  91         | 13.0        | 11.12133    |  1.87867277 |\n",
       "|  42         | 15.6        | 14.00125    |  1.59875011 |\n",
       "|  65         | 12.7        | 12.64945    |  0.05055054 |\n",
       "| 110         |  8.3        | 10.00462    | -1.70462253 |\n",
       "\n"
      ],
      "text/plain": [
       "   Miles.X Price.Y Predicted.Price Residual   \n",
       "1   22     16.2    15.17673         1.02327147\n",
       "2   29     16.0    14.76531         1.23468899\n",
       "3   36     13.8    14.35389        -0.55389349\n",
       "4   47     11.5    13.70738        -2.20738023\n",
       "5   63     12.5    12.76700        -0.26699732\n",
       "6   77     12.9    11.94416         0.95583772\n",
       "7   73     11.2    12.17926        -0.97925801\n",
       "8   87     13.0    11.35642         1.64357704\n",
       "9   92     11.8    11.06255         0.73744670\n",
       "10 101     10.8    10.53359         0.26641209\n",
       "11 110      8.3    10.00462        -1.70462253\n",
       "12  28     12.5    14.82408        -2.32408494\n",
       "13  59     11.1    13.00209        -1.90209305\n",
       "14  68     15.0    12.47313         2.52687234\n",
       "15  68     12.2    12.47313        -0.27312766\n",
       "16  91     13.0    11.12133         1.87867277\n",
       "17  42     15.6    14.00125         1.59875011\n",
       "18  65     12.7    12.64945         0.05055054\n",
       "19 110      8.3    10.00462        -1.70462253"
      ]
     },
     "metadata": {},
     "output_type": "display_data"
    }
   ],
   "source": [
    "newdata = data.frame(Miles=DF.MAIN$Miles.X)\n",
    "DF.MAIN$Predicted.Price= predict(model, newdata)\n",
    "DF.MAIN$Residual= DF.MAIN$Price.Y - DF.MAIN$Predicted.Price\n",
    "DF.MAIN"
   ]
  },
  {
   "cell_type": "code",
   "execution_count": 44,
   "metadata": {},
   "outputs": [
    {
     "data": {
      "text/html": [
       "<table>\n",
       "<thead><tr><th></th><th scope=col>Miles.X</th><th scope=col>Price.Y</th><th scope=col>Predicted.Price</th><th scope=col>Residual</th></tr></thead>\n",
       "<tbody>\n",
       "\t<tr><th scope=row>12</th><td>28       </td><td>12.5     </td><td>14.82408 </td><td>-2.324085</td></tr>\n",
       "\t<tr><th scope=row>14</th><td>68       </td><td>15.0     </td><td>12.47313 </td><td> 2.526872</td></tr>\n",
       "</tbody>\n",
       "</table>\n"
      ],
      "text/latex": [
       "\\begin{tabular}{r|llll}\n",
       "  & Miles.X & Price.Y & Predicted.Price & Residual\\\\\n",
       "\\hline\n",
       "\t12 & 28        & 12.5      & 14.82408  & -2.324085\\\\\n",
       "\t14 & 68        & 15.0      & 12.47313  &  2.526872\\\\\n",
       "\\end{tabular}\n"
      ],
      "text/markdown": [
       "\n",
       "| <!--/--> | Miles.X | Price.Y | Predicted.Price | Residual |\n",
       "|---|---|---|---|---|\n",
       "| 12 | 28        | 12.5      | 14.82408  | -2.324085 |\n",
       "| 14 | 68        | 15.0      | 12.47313  |  2.526872 |\n",
       "\n"
      ],
      "text/plain": [
       "   Miles.X Price.Y Predicted.Price Residual \n",
       "12 28      12.5    14.82408        -2.324085\n",
       "14 68      15.0    12.47313         2.526872"
      ]
     },
     "metadata": {},
     "output_type": "display_data"
    }
   ],
   "source": [
    "DF.MAIN[order(DF.MAIN$Residual),][c(1,nrow(DF.MAIN)),]"
   ]
  },
  {
   "cell_type": "markdown",
   "metadata": {},
   "source": [
    "> ### The largest residuals are -2.324085 and 2.526872 (Remember it is all in 1000s)"
   ]
  },
  {
   "cell_type": "markdown",
   "metadata": {},
   "source": [
    "### F) Predict price for a car with 60000 miles driven. "
   ]
  },
  {
   "cell_type": "code",
   "execution_count": 54,
   "metadata": {},
   "outputs": [
    {
     "data": {
      "text/html": [
       "12943.56"
      ],
      "text/latex": [
       "12943.56"
      ],
      "text/markdown": [
       "12943.56"
      ],
      "text/plain": [
       "[1] 12943.56"
      ]
     },
     "metadata": {},
     "output_type": "display_data"
    }
   ],
   "source": [
    "y1<-16.46976-(0.05877*60); y1*1000"
   ]
  },
  {
   "cell_type": "markdown",
   "metadata": {},
   "source": [
    "> ### A car at 60k miles will be worth $12943.56 [16.46976-0.05877(60)=12943.56]. This price does sound to be fair deal as it is close to the observed data."
   ]
  },
  {
   "cell_type": "markdown",
   "metadata": {},
   "source": [
    "## Problem 5: Dodger Stadium Attendance"
   ]
  },
  {
   "cell_type": "code",
   "execution_count": 1,
   "metadata": {},
   "outputs": [],
   "source": [
    "DF.MAIN = read.csv(\"C:\\\\Users\\\\shrey\\\\OneDrive\\\\Desktop\\\\BUSINESS ANALYTICS\\\\Datasets\\\\Assignment4.csv\", na.strings = \"\")"
   ]
  },
  {
   "cell_type": "code",
   "execution_count": 2,
   "metadata": {},
   "outputs": [
    {
     "data": {
      "text/html": [
       "<table>\n",
       "<thead><tr><th scope=col>month</th><th scope=col>day</th><th scope=col>attend</th><th scope=col>day_of_week</th><th scope=col>opponent</th><th scope=col>temp</th><th scope=col>skies</th><th scope=col>day_night</th><th scope=col>cap</th><th scope=col>shirt</th><th scope=col>fireworks</th><th scope=col>bobblehead</th></tr></thead>\n",
       "<tbody>\n",
       "\t<tr><td>APR      </td><td>10       </td><td>56000    </td><td>Tuesday  </td><td>Pirates  </td><td>67       </td><td>Clear    </td><td>Day      </td><td>NO       </td><td>NO       </td><td>NO       </td><td>NO       </td></tr>\n",
       "\t<tr><td>APR      </td><td>11       </td><td>29729    </td><td>Wednesday</td><td>Pirates  </td><td>58       </td><td>Cloudy   </td><td>Night    </td><td>NO       </td><td>NO       </td><td>NO       </td><td>NO       </td></tr>\n",
       "\t<tr><td>APR      </td><td>12       </td><td>28328    </td><td>Thursday </td><td>Pirates  </td><td>57       </td><td>Cloudy   </td><td>Night    </td><td>NO       </td><td>NO       </td><td>NO       </td><td>NO       </td></tr>\n",
       "\t<tr><td>APR      </td><td>13       </td><td>31601    </td><td>Friday   </td><td>Padres   </td><td>54       </td><td>Cloudy   </td><td>Night    </td><td>NO       </td><td>NO       </td><td>YES      </td><td>NO       </td></tr>\n",
       "\t<tr><td>APR      </td><td>14       </td><td>46549    </td><td>Saturday </td><td>Padres   </td><td>57       </td><td>Cloudy   </td><td>Night    </td><td>NO       </td><td>NO       </td><td>NO       </td><td>NO       </td></tr>\n",
       "\t<tr><td>APR      </td><td>15       </td><td>38359    </td><td>Sunday   </td><td>Padres   </td><td>65       </td><td>Clear    </td><td>Day      </td><td>NO       </td><td>NO       </td><td>NO       </td><td>NO       </td></tr>\n",
       "</tbody>\n",
       "</table>\n"
      ],
      "text/latex": [
       "\\begin{tabular}{r|llllllllllll}\n",
       " month & day & attend & day\\_of\\_week & opponent & temp & skies & day\\_night & cap & shirt & fireworks & bobblehead\\\\\n",
       "\\hline\n",
       "\t APR       & 10        & 56000     & Tuesday   & Pirates   & 67        & Clear     & Day       & NO        & NO        & NO        & NO       \\\\\n",
       "\t APR       & 11        & 29729     & Wednesday & Pirates   & 58        & Cloudy    & Night     & NO        & NO        & NO        & NO       \\\\\n",
       "\t APR       & 12        & 28328     & Thursday  & Pirates   & 57        & Cloudy    & Night     & NO        & NO        & NO        & NO       \\\\\n",
       "\t APR       & 13        & 31601     & Friday    & Padres    & 54        & Cloudy    & Night     & NO        & NO        & YES       & NO       \\\\\n",
       "\t APR       & 14        & 46549     & Saturday  & Padres    & 57        & Cloudy    & Night     & NO        & NO        & NO        & NO       \\\\\n",
       "\t APR       & 15        & 38359     & Sunday    & Padres    & 65        & Clear     & Day       & NO        & NO        & NO        & NO       \\\\\n",
       "\\end{tabular}\n"
      ],
      "text/markdown": [
       "\n",
       "| month | day | attend | day_of_week | opponent | temp | skies | day_night | cap | shirt | fireworks | bobblehead |\n",
       "|---|---|---|---|---|---|---|---|---|---|---|---|\n",
       "| APR       | 10        | 56000     | Tuesday   | Pirates   | 67        | Clear     | Day       | NO        | NO        | NO        | NO        |\n",
       "| APR       | 11        | 29729     | Wednesday | Pirates   | 58        | Cloudy    | Night     | NO        | NO        | NO        | NO        |\n",
       "| APR       | 12        | 28328     | Thursday  | Pirates   | 57        | Cloudy    | Night     | NO        | NO        | NO        | NO        |\n",
       "| APR       | 13        | 31601     | Friday    | Padres    | 54        | Cloudy    | Night     | NO        | NO        | YES       | NO        |\n",
       "| APR       | 14        | 46549     | Saturday  | Padres    | 57        | Cloudy    | Night     | NO        | NO        | NO        | NO        |\n",
       "| APR       | 15        | 38359     | Sunday    | Padres    | 65        | Clear     | Day       | NO        | NO        | NO        | NO        |\n",
       "\n"
      ],
      "text/plain": [
       "  month day attend day_of_week opponent temp skies  day_night cap shirt\n",
       "1 APR   10  56000  Tuesday     Pirates  67   Clear  Day       NO  NO   \n",
       "2 APR   11  29729  Wednesday   Pirates  58   Cloudy Night     NO  NO   \n",
       "3 APR   12  28328  Thursday    Pirates  57   Cloudy Night     NO  NO   \n",
       "4 APR   13  31601  Friday      Padres   54   Cloudy Night     NO  NO   \n",
       "5 APR   14  46549  Saturday    Padres   57   Cloudy Night     NO  NO   \n",
       "6 APR   15  38359  Sunday      Padres   65   Clear  Day       NO  NO   \n",
       "  fireworks bobblehead\n",
       "1 NO        NO        \n",
       "2 NO        NO        \n",
       "3 NO        NO        \n",
       "4 YES       NO        \n",
       "5 NO        NO        \n",
       "6 NO        NO        "
      ]
     },
     "metadata": {},
     "output_type": "display_data"
    }
   ],
   "source": [
    "head(DF.MAIN)"
   ]
  },
  {
   "cell_type": "markdown",
   "metadata": {},
   "source": [
    "\n",
    "### 1. Complete an exploratory data analysis and answer the following:\n",
    "\n",
    "    a. How many times did promotions take place during the year (cap vs shirts vs\n",
    "    bobblehead vs fireworks)?\n",
    "\n",
    "    b. How does attendance vary with and without promotions\n",
    "\n",
    "    c. What patterns exist with programming of games (weather, time, month, day,\n",
    "    etc)?\n",
    "\n",
    "    d. Which opposing teams bring is attendance above average?.\n"
   ]
  },
  {
   "cell_type": "markdown",
   "metadata": {},
   "source": [
    " ### a. How many times did promotions take place during the year (cap vs shirts vs bobblehead vs fireworks)?\n",
    "#### Soln a:"
   ]
  },
  {
   "cell_type": "code",
   "execution_count": 3,
   "metadata": {},
   "outputs": [
    {
     "data": {
      "text/html": [
       "<table>\n",
       "<thead><tr><th scope=col>month</th><th scope=col>day</th><th scope=col>attend</th><th scope=col>day_of_week</th><th scope=col>opponent</th><th scope=col>temp</th><th scope=col>skies</th><th scope=col>day_night</th><th scope=col>cap</th><th scope=col>shirt</th><th scope=col>fireworks</th><th scope=col>bobblehead</th></tr></thead>\n",
       "<tbody>\n",
       "</tbody>\n",
       "</table>\n"
      ],
      "text/latex": [
       "\\begin{tabular}{r|llllllllllll}\n",
       " month & day & attend & day\\_of\\_week & opponent & temp & skies & day\\_night & cap & shirt & fireworks & bobblehead\\\\\n",
       "\\hline\n",
       "\\end{tabular}\n"
      ],
      "text/markdown": [
       "\n",
       "| month | day | attend | day_of_week | opponent | temp | skies | day_night | cap | shirt | fireworks | bobblehead |\n",
       "|---|---|---|---|---|---|---|---|---|---|---|---|\n",
       "\n"
      ],
      "text/plain": [
       "     month day attend day_of_week opponent temp skies day_night cap shirt\n",
       "     fireworks bobblehead"
      ]
     },
     "metadata": {},
     "output_type": "display_data"
    }
   ],
   "source": [
    "#Lets chaeck if data is complete\n",
    "DF.MAIN[!complete.cases(DF.MAIN),]"
   ]
  },
  {
   "cell_type": "code",
   "execution_count": 4,
   "metadata": {},
   "outputs": [
    {
     "name": "stdout",
     "output_type": "stream",
     "text": [
      "[1] \"Cap promotions\"\n"
     ]
    },
    {
     "data": {
      "text/html": [
       "<dl class=dl-horizontal>\n",
       "\t<dt>NO</dt>\n",
       "\t\t<dd>79</dd>\n",
       "\t<dt>YES</dt>\n",
       "\t\t<dd>2</dd>\n",
       "</dl>\n"
      ],
      "text/latex": [
       "\\begin{description*}\n",
       "\\item[NO] 79\n",
       "\\item[YES] 2\n",
       "\\end{description*}\n"
      ],
      "text/markdown": [
       "NO\n",
       ":   79YES\n",
       ":   2\n",
       "\n"
      ],
      "text/plain": [
       " NO YES \n",
       " 79   2 "
      ]
     },
     "metadata": {},
     "output_type": "display_data"
    },
    {
     "name": "stdout",
     "output_type": "stream",
     "text": [
      "[1] \"shirt promotions\"\n"
     ]
    },
    {
     "data": {
      "text/html": [
       "<dl class=dl-horizontal>\n",
       "\t<dt>NO</dt>\n",
       "\t\t<dd>78</dd>\n",
       "\t<dt>YES</dt>\n",
       "\t\t<dd>3</dd>\n",
       "</dl>\n"
      ],
      "text/latex": [
       "\\begin{description*}\n",
       "\\item[NO] 78\n",
       "\\item[YES] 3\n",
       "\\end{description*}\n"
      ],
      "text/markdown": [
       "NO\n",
       ":   78YES\n",
       ":   3\n",
       "\n"
      ],
      "text/plain": [
       " NO YES \n",
       " 78   3 "
      ]
     },
     "metadata": {},
     "output_type": "display_data"
    },
    {
     "name": "stdout",
     "output_type": "stream",
     "text": [
      "[1] \"fireworks promotions\"\n"
     ]
    },
    {
     "data": {
      "text/html": [
       "<dl class=dl-horizontal>\n",
       "\t<dt>NO</dt>\n",
       "\t\t<dd>67</dd>\n",
       "\t<dt>YES</dt>\n",
       "\t\t<dd>14</dd>\n",
       "</dl>\n"
      ],
      "text/latex": [
       "\\begin{description*}\n",
       "\\item[NO] 67\n",
       "\\item[YES] 14\n",
       "\\end{description*}\n"
      ],
      "text/markdown": [
       "NO\n",
       ":   67YES\n",
       ":   14\n",
       "\n"
      ],
      "text/plain": [
       " NO YES \n",
       " 67  14 "
      ]
     },
     "metadata": {},
     "output_type": "display_data"
    },
    {
     "name": "stdout",
     "output_type": "stream",
     "text": [
      "[1] \"bobblehead promotions\"\n"
     ]
    },
    {
     "data": {
      "text/html": [
       "<dl class=dl-horizontal>\n",
       "\t<dt>NO</dt>\n",
       "\t\t<dd>70</dd>\n",
       "\t<dt>YES</dt>\n",
       "\t\t<dd>11</dd>\n",
       "</dl>\n"
      ],
      "text/latex": [
       "\\begin{description*}\n",
       "\\item[NO] 70\n",
       "\\item[YES] 11\n",
       "\\end{description*}\n"
      ],
      "text/markdown": [
       "NO\n",
       ":   70YES\n",
       ":   11\n",
       "\n"
      ],
      "text/plain": [
       " NO YES \n",
       " 70  11 "
      ]
     },
     "metadata": {},
     "output_type": "display_data"
    }
   ],
   "source": [
    "print(\"Cap promotions\")\n",
    "summary(DF.MAIN[,'cap'])\n",
    "print(\"shirt promotions\")\n",
    "summary(DF.MAIN[,'shirt'])\n",
    "print(\"fireworks promotions\")\n",
    "summary(DF.MAIN[,'fireworks'])\n",
    "print(\"bobblehead promotions\")\n",
    "summary(DF.MAIN[,'bobblehead'])\n"
   ]
  },
  {
   "cell_type": "code",
   "execution_count": 5,
   "metadata": {},
   "outputs": [],
   "source": [
    "for (a in 1:nrow(DF.MAIN)){\n",
    "    if(DF.MAIN$cap[a] == \"YES\" | DF.MAIN$shirt[a] ==\"YES\"|DF.MAIN$fireworks[a]==\"YES\"|DF.MAIN$bobblehead[a]==\"YES\"){\n",
    "        DF.MAIN$Promotion[a] = \"YES\"\n",
    "    } else{\n",
    "        DF.MAIN$Promotion[a] =\"NO\"\n",
    "    }\n",
    "}"
   ]
  },
  {
   "cell_type": "code",
   "execution_count": 6,
   "metadata": {},
   "outputs": [],
   "source": [
    "DF.MAIN$Promotion= as.factor(DF.MAIN$Promotion)"
   ]
  },
  {
   "cell_type": "code",
   "execution_count": 7,
   "metadata": {},
   "outputs": [
    {
     "data": {
      "text/html": [
       "<dl class=dl-horizontal>\n",
       "\t<dt>NO</dt>\n",
       "\t\t<dd>51</dd>\n",
       "\t<dt>YES</dt>\n",
       "\t\t<dd>30</dd>\n",
       "</dl>\n"
      ],
      "text/latex": [
       "\\begin{description*}\n",
       "\\item[NO] 51\n",
       "\\item[YES] 30\n",
       "\\end{description*}\n"
      ],
      "text/markdown": [
       "NO\n",
       ":   51YES\n",
       ":   30\n",
       "\n"
      ],
      "text/plain": [
       " NO YES \n",
       " 51  30 "
      ]
     },
     "metadata": {},
     "output_type": "display_data"
    }
   ],
   "source": [
    "summary(DF.MAIN$Promotion)"
   ]
  },
  {
   "cell_type": "markdown",
   "metadata": {},
   "source": [
    "> ### There were 30 promotion days throughout the year with atleast one of all promotions."
   ]
  },
  {
   "cell_type": "markdown",
   "metadata": {},
   "source": [
    " ### b. How does attendance vary with and without promotions\n",
    "#### soln b"
   ]
  },
  {
   "cell_type": "code",
   "execution_count": 8,
   "metadata": {},
   "outputs": [
    {
     "name": "stdout",
     "output_type": "stream",
     "text": [
      "Average Attendance total when promotion was made: 45866.37 \n",
      "Average Attendance total when promotion was not made: 38201.08"
     ]
    }
   ],
   "source": [
    "cat(\"Average Attendance total when promotion was made:\",mean(DF.MAIN[DF.MAIN$Promotion==\"YES\",\"attend\"]),\"\\n\")\n",
    "cat(\"Average Attendance total when promotion was not made:\",mean(DF.MAIN[DF.MAIN$Promotion==\"NO\",\"attend\"]))"
   ]
  },
  {
   "cell_type": "markdown",
   "metadata": {},
   "source": [
    "> ### Average attendance without promtions is 38201 while with promotion it is much higher at 45866.37"
   ]
  },
  {
   "cell_type": "markdown",
   "metadata": {},
   "source": [
    "### c. What patterns exist with programming of games (weather, time, month, day, etc)?\n",
    "#### Soln c\n",
    "\n",
    "#### Lets start the analysis with weather and attendes:"
   ]
  },
  {
   "cell_type": "code",
   "execution_count": 20,
   "metadata": {},
   "outputs": [],
   "source": [
    "library(ggplot2)\n",
    "library(scales)"
   ]
  },
  {
   "cell_type": "code",
   "execution_count": 41,
   "metadata": {},
   "outputs": [
    {
     "name": "stderr",
     "output_type": "stream",
     "text": [
      "Warning message:\n",
      "\"Ignoring unknown parameters: binwidth, bins, pad\"Scale for 'y' is already present. Adding another scale for 'y', which will\n",
      "replace the existing scale.\n"
     ]
    },
    {
     "data": {
      "image/png": "[encoded data removed]",
      "text/plain": [
       "plot without title"
      ]
     },
     "metadata": {},
     "output_type": "display_data"
    }
   ],
   "source": [
    "ggplot(data = DF.MAIN, aes(x = DF.MAIN$opponent, fill = DF.MAIN$skies )) + \n",
    "    geom_histogram(stat=\"count\",color =\"black\") +\n",
    "    theme(axis.text.x = element_text(angle = 90, hjust = 1))+\n",
    "    ggtitle(\"Match count vs opponents with skies\") + scale_y_continuous(labels = comma) + ylab(\"Count of Matches\")+\n",
    "     scale_y_continuous(breaks = round(seq(0, 10, by = 0.5),1))"
   ]
  },
  {
   "cell_type": "markdown",
   "metadata": {},
   "source": [
    "- ### Highest of matches were with Padres,Giants,rockies and snakes opponent \n",
    "- ### skies has been clear most of the times."
   ]
  },
  {
   "cell_type": "code",
   "execution_count": 47,
   "metadata": {},
   "outputs": [
    {
     "name": "stderr",
     "output_type": "stream",
     "text": [
      "Warning message:\n",
      "\"Ignoring unknown parameters: binwidth, bins, pad\"Scale for 'y' is already present. Adding another scale for 'y', which will\n",
      "replace the existing scale.\n"
     ]
    },
    {
     "data": {
      "image/png": "[encoded data removed]",
      "text/plain": [
       "plot without title"
      ]
     },
     "metadata": {},
     "output_type": "display_data"
    }
   ],
   "source": [
    "ggplot(data = DF.MAIN, aes( x = DF.MAIN$day_of_week, fill = DF.MAIN$day_night )) + \n",
    "    geom_histogram(stat=\"count\",color=\"Black\",binwidth = 10) +\n",
    "    theme(axis.text.x = element_text(angle = 90, hjust = 1))+\n",
    "    ggtitle(\"Count of matches vs Day of the week with skies\") + scale_y_continuous(labels = comma)+\n",
    "    scale_y_continuous(breaks = round(seq(0, 20, by = 0.5),1))"
   ]
  },
  {
   "cell_type": "markdown",
   "metadata": {},
   "source": [
    "- From the above graph we can see Thursday has the least number of matches \n",
    "- And mostly all days had matches in night except on sunday when major matches are during day time"
   ]
  },
  {
   "cell_type": "code",
   "execution_count": 49,
   "metadata": {},
   "outputs": [
    {
     "name": "stderr",
     "output_type": "stream",
     "text": [
      "Warning message:\n",
      "\"Ignoring unknown parameters: binwidth, bins, pad\"Scale for 'y' is already present. Adding another scale for 'y', which will\n",
      "replace the existing scale.\n"
     ]
    },
    {
     "data": {
      "image/png": "[encoded data removed]",
      "text/plain": [
       "plot without title"
      ]
     },
     "metadata": {},
     "output_type": "display_data"
    }
   ],
   "source": [
    "ggplot(data = DF.MAIN, aes(x = DF.MAIN$month, fill = DF.MAIN$day_night )) + \n",
    "    geom_histogram(stat=\"Count\",color=\"Black\",binwidth = 10) +\n",
    "    theme(axis.text.x = element_text(angle = 90, hjust = 1))+\n",
    "    ggtitle(\"Count of matches vs month with skies\") + scale_y_continuous(labels = comma) +\n",
    "    scale_y_continuous(breaks = round(seq(0, 20, by = 0.5),1))"
   ]
  },
  {
   "cell_type": "markdown",
   "metadata": {},
   "source": [
    "-  May has the highest number of matches \n",
    "- while most of the matches are played at Night and in oct all the matches were played only in night."
   ]
  },
  {
   "cell_type": "code",
   "execution_count": 53,
   "metadata": {},
   "outputs": [
    {
     "name": "stderr",
     "output_type": "stream",
     "text": [
      "Warning message:\n",
      "\"Ignoring unknown parameters: binwidth, bins, pad\"Scale for 'y' is already present. Adding another scale for 'y', which will\n",
      "replace the existing scale.\n"
     ]
    },
    {
     "data": {
      "image/png": "[encoded data removed]",
      "text/plain": [
       "plot without title"
      ]
     },
     "metadata": {},
     "output_type": "display_data"
    }
   ],
   "source": [
    "ggplot(data = DF.MAIN, aes( x = DF.MAIN$month, fill = DF.MAIN$opponent )) + \n",
    "    geom_histogram(stat=\"count\",color=\"Black\",binwidth = 10) +\n",
    "    theme(axis.text.x = element_text(angle = 90, hjust = 1))+\n",
    "    ggtitle(\"Count of matches vs month with skies\") + scale_y_continuous(labels = comma)+\n",
    "    scale_y_continuous(breaks = round(seq(0, 20, by = 0.5),1))"
   ]
  },
  {
   "cell_type": "markdown",
   "metadata": {},
   "source": [
    "- The above graph shows matches played in what month and what opponent."
   ]
  },
  {
   "cell_type": "code",
   "execution_count": 55,
   "metadata": {},
   "outputs": [
    {
     "name": "stderr",
     "output_type": "stream",
     "text": [
      "Warning message:\n",
      "\"Ignoring unknown parameters: binwidth, bins, pad\"Scale for 'y' is already present. Adding another scale for 'y', which will\n",
      "replace the existing scale.\n"
     ]
    },
    {
     "data": {
      "image/png": "[encoded data removed]",
      "text/plain": [
       "plot without title"
      ]
     },
     "metadata": {},
     "output_type": "display_data"
    }
   ],
   "source": [
    "ggplot(data = DF.MAIN, aes( x = DF.MAIN$temp, fill = DF.MAIN$day_night )) + \n",
    "    geom_histogram(stat=\"count\",color=\"Black\",binwidth = 10,bins = 5) +\n",
    "    theme(axis.text.x = element_text(angle = 90, hjust = 1))+\n",
    "    ggtitle(\"Attendees vs month with skies\")+\n",
    "    scale_x_continuous(breaks = round(seq(min(DF.MAIN$temp), max(DF.MAIN$temp), by = 0.9),1)) + \n",
    "    scale_y_continuous(labels = comma) +\n",
    "    scale_y_continuous(breaks = round(seq(0, 10, by = 0.5),1))"
   ]
  },
  {
   "cell_type": "markdown",
   "metadata": {},
   "source": [
    "> ### Major matches had temperature between 62 to 84 \n",
    "-  Highest matches were played at 69 degrees"
   ]
  },
  {
   "cell_type": "code",
   "execution_count": 61,
   "metadata": {
    "scrolled": false
   },
   "outputs": [
    {
     "data": {
      "image/png": "[encoded data removed]",
      "text/plain": [
       "plot without title"
      ]
     },
     "metadata": {},
     "output_type": "display_data"
    }
   ],
   "source": [
    "ggplot(data = DF.MAIN, aes(y= DF.MAIN$attend, x = DF.MAIN$temp, color = DF.MAIN$day_night )) + \n",
    "    geom_point()+\n",
    "    scale_x_continuous(breaks = round(seq(min(DF.MAIN$temp), max(DF.MAIN$temp), by = 0.9),1))+\n",
    "     theme(axis.text.x = element_text(angle = 90, hjust = 1)) +\n",
    "    ggtitle(\"Attendees vs temperature\")"
   ]
  },
  {
   "cell_type": "markdown",
   "metadata": {},
   "source": [
    "> ### The above scatter plot shows that not only more matches were conducted in the temperature above 62 and below 86 but also that more attendees were seen in these matches compared to temperature in extreme ends "
   ]
  },
  {
   "cell_type": "markdown",
   "metadata": {},
   "source": [
    "### d. Which opposing teams bring is attendance above average?."
   ]
  },
  {
   "cell_type": "code",
   "execution_count": 184,
   "metadata": {},
   "outputs": [
    {
     "name": "stderr",
     "output_type": "stream",
     "text": [
      "\n",
      "Attaching package: 'dplyr'\n",
      "\n",
      "The following objects are masked from 'package:stats':\n",
      "\n",
      "    filter, lag\n",
      "\n",
      "The following objects are masked from 'package:base':\n",
      "\n",
      "    intersect, setdiff, setequal, union\n",
      "\n"
     ]
    }
   ],
   "source": [
    "library(dplyr)\n"
   ]
  },
  {
   "cell_type": "code",
   "execution_count": 197,
   "metadata": {},
   "outputs": [],
   "source": [
    "Grouped.DF = DF.MAIN %>% group_by(opponent) %>% summarise(n=n(),attendees = sum(attend), Average.Attendees = mean(attend))"
   ]
  },
  {
   "cell_type": "code",
   "execution_count": 198,
   "metadata": {},
   "outputs": [
    {
     "data": {
      "text/html": [
       "<table>\n",
       "<thead><tr><th scope=col>opponent</th><th scope=col>n</th><th scope=col>attendees</th><th scope=col>Average.Attendees</th></tr></thead>\n",
       "<tbody>\n",
       "\t<tr><td>Angels   </td><td>3        </td><td>149332   </td><td>49777.33 </td></tr>\n",
       "\t<tr><td>Astros   </td><td>3        </td><td>106150   </td><td>35383.33 </td></tr>\n",
       "\t<tr><td>Braves   </td><td>3        </td><td> 96735   </td><td>32245.00 </td></tr>\n",
       "\t<tr><td>Brewers  </td><td>4        </td><td>141435   </td><td>35358.75 </td></tr>\n",
       "\t<tr><td>Cardinals</td><td>7        </td><td>285973   </td><td>40853.29 </td></tr>\n",
       "\t<tr><td>Cubs     </td><td>3        </td><td>132620   </td><td>44206.67 </td></tr>\n",
       "\t<tr><td>Giants   </td><td>9        </td><td>353667   </td><td>39296.33 </td></tr>\n",
       "\t<tr><td>Marlins  </td><td>3        </td><td>121996   </td><td>40665.33 </td></tr>\n",
       "\t<tr><td>Mets     </td><td>4        </td><td>198345   </td><td>49586.25 </td></tr>\n",
       "\t<tr><td>Nationals</td><td>3        </td><td>147802   </td><td>49267.33 </td></tr>\n",
       "\t<tr><td>Padres   </td><td>9        </td><td>378830   </td><td>42092.22 </td></tr>\n",
       "\t<tr><td>Phillies </td><td>3        </td><td>125691   </td><td>41897.00 </td></tr>\n",
       "\t<tr><td>Pirates  </td><td>3        </td><td>114057   </td><td>38019.00 </td></tr>\n",
       "\t<tr><td>Reds     </td><td>3        </td><td>121947   </td><td>40649.00 </td></tr>\n",
       "\t<tr><td>Rockies  </td><td>9        </td><td>356681   </td><td>39631.22 </td></tr>\n",
       "\t<tr><td>Snakes   </td><td>9        </td><td>353839   </td><td>39315.44 </td></tr>\n",
       "\t<tr><td>White Sox</td><td>3        </td><td>139146   </td><td>46382.00 </td></tr>\n",
       "</tbody>\n",
       "</table>\n"
      ],
      "text/latex": [
       "\\begin{tabular}{r|llll}\n",
       " opponent & n & attendees & Average.Attendees\\\\\n",
       "\\hline\n",
       "\t Angels    & 3         & 149332    & 49777.33 \\\\\n",
       "\t Astros    & 3         & 106150    & 35383.33 \\\\\n",
       "\t Braves    & 3         &  96735    & 32245.00 \\\\\n",
       "\t Brewers   & 4         & 141435    & 35358.75 \\\\\n",
       "\t Cardinals & 7         & 285973    & 40853.29 \\\\\n",
       "\t Cubs      & 3         & 132620    & 44206.67 \\\\\n",
       "\t Giants    & 9         & 353667    & 39296.33 \\\\\n",
       "\t Marlins   & 3         & 121996    & 40665.33 \\\\\n",
       "\t Mets      & 4         & 198345    & 49586.25 \\\\\n",
       "\t Nationals & 3         & 147802    & 49267.33 \\\\\n",
       "\t Padres    & 9         & 378830    & 42092.22 \\\\\n",
       "\t Phillies  & 3         & 125691    & 41897.00 \\\\\n",
       "\t Pirates   & 3         & 114057    & 38019.00 \\\\\n",
       "\t Reds      & 3         & 121947    & 40649.00 \\\\\n",
       "\t Rockies   & 9         & 356681    & 39631.22 \\\\\n",
       "\t Snakes    & 9         & 353839    & 39315.44 \\\\\n",
       "\t White Sox & 3         & 139146    & 46382.00 \\\\\n",
       "\\end{tabular}\n"
      ],
      "text/markdown": [
       "\n",
       "| opponent | n | attendees | Average.Attendees |\n",
       "|---|---|---|---|\n",
       "| Angels    | 3         | 149332    | 49777.33  |\n",
       "| Astros    | 3         | 106150    | 35383.33  |\n",
       "| Braves    | 3         |  96735    | 32245.00  |\n",
       "| Brewers   | 4         | 141435    | 35358.75  |\n",
       "| Cardinals | 7         | 285973    | 40853.29  |\n",
       "| Cubs      | 3         | 132620    | 44206.67  |\n",
       "| Giants    | 9         | 353667    | 39296.33  |\n",
       "| Marlins   | 3         | 121996    | 40665.33  |\n",
       "| Mets      | 4         | 198345    | 49586.25  |\n",
       "| Nationals | 3         | 147802    | 49267.33  |\n",
       "| Padres    | 9         | 378830    | 42092.22  |\n",
       "| Phillies  | 3         | 125691    | 41897.00  |\n",
       "| Pirates   | 3         | 114057    | 38019.00  |\n",
       "| Reds      | 3         | 121947    | 40649.00  |\n",
       "| Rockies   | 9         | 356681    | 39631.22  |\n",
       "| Snakes    | 9         | 353839    | 39315.44  |\n",
       "| White Sox | 3         | 139146    | 46382.00  |\n",
       "\n"
      ],
      "text/plain": [
       "   opponent  n attendees Average.Attendees\n",
       "1  Angels    3 149332    49777.33         \n",
       "2  Astros    3 106150    35383.33         \n",
       "3  Braves    3  96735    32245.00         \n",
       "4  Brewers   4 141435    35358.75         \n",
       "5  Cardinals 7 285973    40853.29         \n",
       "6  Cubs      3 132620    44206.67         \n",
       "7  Giants    9 353667    39296.33         \n",
       "8  Marlins   3 121996    40665.33         \n",
       "9  Mets      4 198345    49586.25         \n",
       "10 Nationals 3 147802    49267.33         \n",
       "11 Padres    9 378830    42092.22         \n",
       "12 Phillies  3 125691    41897.00         \n",
       "13 Pirates   3 114057    38019.00         \n",
       "14 Reds      3 121947    40649.00         \n",
       "15 Rockies   9 356681    39631.22         \n",
       "16 Snakes    9 353839    39315.44         \n",
       "17 White Sox 3 139146    46382.00         "
      ]
     },
     "metadata": {},
     "output_type": "display_data"
    }
   ],
   "source": [
    "Grouped.DF"
   ]
  },
  {
   "cell_type": "code",
   "execution_count": 208,
   "metadata": {},
   "outputs": [
    {
     "data": {
      "text/html": [
       "<table>\n",
       "<thead><tr><th scope=col>opponent</th><th scope=col>n</th><th scope=col>attendees</th><th scope=col>Average.Attendees</th></tr></thead>\n",
       "<tbody>\n",
       "\t<tr><td>Angels   </td><td>3        </td><td>149332   </td><td>49777.33 </td></tr>\n",
       "\t<tr><td>Cubs     </td><td>3        </td><td>132620   </td><td>44206.67 </td></tr>\n",
       "\t<tr><td>Mets     </td><td>4        </td><td>198345   </td><td>49586.25 </td></tr>\n",
       "\t<tr><td>Nationals</td><td>3        </td><td>147802   </td><td>49267.33 </td></tr>\n",
       "\t<tr><td>Padres   </td><td>9        </td><td>378830   </td><td>42092.22 </td></tr>\n",
       "\t<tr><td>Phillies </td><td>3        </td><td>125691   </td><td>41897.00 </td></tr>\n",
       "\t<tr><td>White Sox</td><td>3        </td><td>139146   </td><td>46382.00 </td></tr>\n",
       "</tbody>\n",
       "</table>\n"
      ],
      "text/latex": [
       "\\begin{tabular}{r|llll}\n",
       " opponent & n & attendees & Average.Attendees\\\\\n",
       "\\hline\n",
       "\t Angels    & 3         & 149332    & 49777.33 \\\\\n",
       "\t Cubs      & 3         & 132620    & 44206.67 \\\\\n",
       "\t Mets      & 4         & 198345    & 49586.25 \\\\\n",
       "\t Nationals & 3         & 147802    & 49267.33 \\\\\n",
       "\t Padres    & 9         & 378830    & 42092.22 \\\\\n",
       "\t Phillies  & 3         & 125691    & 41897.00 \\\\\n",
       "\t White Sox & 3         & 139146    & 46382.00 \\\\\n",
       "\\end{tabular}\n"
      ],
      "text/markdown": [
       "\n",
       "| opponent | n | attendees | Average.Attendees |\n",
       "|---|---|---|---|\n",
       "| Angels    | 3         | 149332    | 49777.33  |\n",
       "| Cubs      | 3         | 132620    | 44206.67  |\n",
       "| Mets      | 4         | 198345    | 49586.25  |\n",
       "| Nationals | 3         | 147802    | 49267.33  |\n",
       "| Padres    | 9         | 378830    | 42092.22  |\n",
       "| Phillies  | 3         | 125691    | 41897.00  |\n",
       "| White Sox | 3         | 139146    | 46382.00  |\n",
       "\n"
      ],
      "text/plain": [
       "  opponent  n attendees Average.Attendees\n",
       "1 Angels    3 149332    49777.33         \n",
       "2 Cubs      3 132620    44206.67         \n",
       "3 Mets      4 198345    49586.25         \n",
       "4 Nationals 3 147802    49267.33         \n",
       "5 Padres    9 378830    42092.22         \n",
       "6 Phillies  3 125691    41897.00         \n",
       "7 White Sox 3 139146    46382.00         "
      ]
     },
     "metadata": {},
     "output_type": "display_data"
    }
   ],
   "source": [
    "# Opponent that brings attendees above average attendees is:\n",
    "Grouped.DF[Grouped.DF$Average.Attendees >=  mean(DF.MAIN$attend),]"
   ]
  },
  {
   "cell_type": "markdown",
   "metadata": {},
   "source": [
    "> ### Listed are the opponents that have average attendees more than average attendees of the whole dataset"
   ]
  },
  {
   "cell_type": "markdown",
   "metadata": {},
   "source": [
    "### 2. Answer the following questions using predictive modeling techniques:\n",
    "    a. Will the bobblehead promotions increase attendance?\n",
    "    b. Are bobblehead promotions better than all other promotions?\n",
    "    c. Giving your predictions, how many bobblehead should we ordered for the\n",
    "    summer time (Jun - Aug)"
   ]
  },
  {
   "cell_type": "markdown",
   "metadata": {},
   "source": [
    "### a. Will the bobblehead promotions increase attendance?\n",
    "#### Sol a"
   ]
  },
  {
   "cell_type": "code",
   "execution_count": 31,
   "metadata": {},
   "outputs": [
    {
     "data": {
      "text/plain": [
       "\n",
       "Call:\n",
       "lm(formula = attend ~ bobblehead + shirt + cap + fireworks, data = DF.MAIN)\n",
       "\n",
       "Residuals:\n",
       "     Min       1Q   Median       3Q      Max \n",
       "-13889.1  -4466.1   -185.1   3729.1  17798.9 \n",
       "\n",
       "Coefficients:\n",
       "              Estimate Std. Error t value Pr(>|t|)    \n",
       "(Intercept)   38201.08     933.09  40.940  < 2e-16 ***\n",
       "bobbleheadYES 14943.56    2215.26   6.746 2.64e-09 ***\n",
       "shirtYES       8442.59    3958.77   2.133   0.0362 *  \n",
       "capYES          -11.58    4803.39  -0.002   0.9981    \n",
       "fireworksYES   2876.78    2010.56   1.431   0.1566    \n",
       "---\n",
       "Signif. codes:  0 '***' 0.001 '**' 0.01 '*' 0.05 '.' 0.1 ' ' 1\n",
       "\n",
       "Residual standard error: 6664 on 76 degrees of freedom\n",
       "Multiple R-squared:  0.3873,\tAdjusted R-squared:  0.3551 \n",
       "F-statistic: 12.01 on 4 and 76 DF,  p-value: 1.293e-07\n"
      ]
     },
     "metadata": {},
     "output_type": "display_data"
    }
   ],
   "source": [
    "model= lm(attend~bobblehead + shirt + cap + fireworks,data = DF.MAIN)\n",
    "summary(model)"
   ]
  },
  {
   "cell_type": "markdown",
   "metadata": {},
   "source": [
    "> The bobbleheadYES coefficient is positive which means that it is positively related and that means bobblehead would increase attendance.\n",
    "\n",
    "the t-statistic values are relatively far away from zero and are large relative to the standard error, which could indicate a relationship exists. "
   ]
  },
  {
   "cell_type": "markdown",
   "metadata": {},
   "source": [
    "### b. Are bobblehead promotions better than all other promotions?"
   ]
  },
  {
   "cell_type": "markdown",
   "metadata": {},
   "source": [
    ">bobbleheadYES has the biggest coefficient compared to other promotions(i.e shirtYES, capYES, fireworksYES) which means one change in bobblehead would have 14943.56 change in attend. tying up to the answer that is Yes bobblehead promotions are better than all other promotions."
   ]
  },
  {
   "cell_type": "markdown",
   "metadata": {},
   "source": [
    "  ### c. Giving your predictions, how many bobblehead should we ordered for the summer time (Jun - Aug)"
   ]
  },
  {
   "cell_type": "code",
   "execution_count": 102,
   "metadata": {},
   "outputs": [
    {
     "data": {
      "text/html": [
       "432135"
      ],
      "text/latex": [
       "432135"
      ],
      "text/markdown": [
       "432135"
      ],
      "text/plain": [
       "[1] 432135"
      ]
     },
     "metadata": {},
     "output_type": "display_data"
    }
   ],
   "source": [
    "newdata= data.frame(Bobblehead= DF.MAIN[DF.MAIN$bobblehead == \"YES\" & \n",
    "                                        (DF.MAIN$month==\"JUN\" |DF.MAIN$month==\"JUL\"|DF.MAIN$month==\"AUG\"),\"attend\"])\n",
    "sum(newdata)"
   ]
  },
  {
   "cell_type": "markdown",
   "metadata": {},
   "source": [
    "> To further predict the bobblehead needed for the summer we will take an average of attendees from the data in summer approach where we are Assuming that all the attend takes 1 bobblehead when promoted on the day of match in summer; we will need about 432135 of Bobblehead for the summer because that is number of attendees who attended in summer when there was a bobblehead promotion."
   ]
  },
  {
   "cell_type": "code",
   "execution_count": 90,
   "metadata": {},
   "outputs": [
    {
     "data": {
      "text/html": [
       "<table>\n",
       "<thead><tr><th scope=col>cap</th><th scope=col>shirt</th><th scope=col>fireworks</th><th scope=col>bobblehead</th></tr></thead>\n",
       "<tbody>\n",
       "\t<tr><td>NO </td><td>NO </td><td>NO </td><td>NO </td></tr>\n",
       "\t<tr><td>NO </td><td>NO </td><td>NO </td><td>NO </td></tr>\n",
       "\t<tr><td>NO </td><td>NO </td><td>NO </td><td>NO </td></tr>\n",
       "\t<tr><td>NO </td><td>NO </td><td>YES</td><td>NO </td></tr>\n",
       "\t<tr><td>NO </td><td>NO </td><td>NO </td><td>NO </td></tr>\n",
       "\t<tr><td>NO </td><td>NO </td><td>NO </td><td>NO </td></tr>\n",
       "</tbody>\n",
       "</table>\n"
      ],
      "text/latex": [
       "\\begin{tabular}{r|llll}\n",
       " cap & shirt & fireworks & bobblehead\\\\\n",
       "\\hline\n",
       "\t NO  & NO  & NO  & NO \\\\\n",
       "\t NO  & NO  & NO  & NO \\\\\n",
       "\t NO  & NO  & NO  & NO \\\\\n",
       "\t NO  & NO  & YES & NO \\\\\n",
       "\t NO  & NO  & NO  & NO \\\\\n",
       "\t NO  & NO  & NO  & NO \\\\\n",
       "\\end{tabular}\n"
      ],
      "text/markdown": [
       "\n",
       "| cap | shirt | fireworks | bobblehead |\n",
       "|---|---|---|---|\n",
       "| NO  | NO  | NO  | NO  |\n",
       "| NO  | NO  | NO  | NO  |\n",
       "| NO  | NO  | NO  | NO  |\n",
       "| NO  | NO  | YES | NO  |\n",
       "| NO  | NO  | NO  | NO  |\n",
       "| NO  | NO  | NO  | NO  |\n",
       "\n"
      ],
      "text/plain": [
       "  cap shirt fireworks bobblehead\n",
       "1 NO  NO    NO        NO        \n",
       "2 NO  NO    NO        NO        \n",
       "3 NO  NO    NO        NO        \n",
       "4 NO  NO    YES       NO        \n",
       "5 NO  NO    NO        NO        \n",
       "6 NO  NO    NO        NO        "
      ]
     },
     "metadata": {},
     "output_type": "display_data"
    }
   ],
   "source": [
    "head(DF.MAIN[9:12])"
   ]
  },
  {
   "cell_type": "code",
   "execution_count": 97,
   "metadata": {},
   "outputs": [],
   "source": [
    "#lets take summer data to predict attend with bobblehead  \n",
    "DF_newdata = data.frame(DF.MAIN[9:12])"
   ]
  },
  {
   "cell_type": "code",
   "execution_count": 98,
   "metadata": {},
   "outputs": [
    {
     "data": {
      "text/html": [
       "81"
      ],
      "text/latex": [
       "81"
      ],
      "text/markdown": [
       "81"
      ],
      "text/plain": [
       "[1] 81"
      ]
     },
     "metadata": {},
     "output_type": "display_data"
    }
   ],
   "source": [
    "nrow(DF_newdata)"
   ]
  },
  {
   "cell_type": "code",
   "execution_count": 100,
   "metadata": {},
   "outputs": [],
   "source": [
    "Predicted.count= predict(model, DF_newdata)\n",
    "DF.MAIN$Predicted.attend = Predicted.count"
   ]
  },
  {
   "cell_type": "code",
   "execution_count": 104,
   "metadata": {},
   "outputs": [
    {
     "data": {
      "text/html": [
       "425157.090909091"
      ],
      "text/latex": [
       "425157.090909091"
      ],
      "text/markdown": [
       "425157.090909091"
      ],
      "text/plain": [
       "[1] 425157.1"
      ]
     },
     "metadata": {},
     "output_type": "display_data"
    }
   ],
   "source": [
    "sum(data.frame(Bobblehead= DF.MAIN[DF.MAIN$bobblehead == \"YES\" & \n",
    "                                        (DF.MAIN$month==\"JUN\" |DF.MAIN$month==\"JUL\"|DF.MAIN$month==\"AUG\"),\n",
    "                                   \"Predicted.attend\"]))"
   ]
  },
  {
   "cell_type": "markdown",
   "metadata": {},
   "source": [
    "> Using model to predict we are getting 425157 Attend count for summer. So we would need these many bobbleheads assuming everyone buys the bobblehead who attends."
   ]
  },
  {
   "cell_type": "code",
   "execution_count": null,
   "metadata": {},
   "outputs": [],
   "source": []
  }
 ],
 "metadata": {
  "kernelspec": {
   "display_name": "R",
   "language": "R",
   "name": "ir"
  },
  "language_info": {
   "codemirror_mode": "r",
   "file_extension": ".r",
   "mimetype": "text/x-r-source",
   "name": "R",
   "pygments_lexer": "r",
   "version": "3.6.1"
  }
 },
 "nbformat": 4,
 "nbformat_minor": 2
}
